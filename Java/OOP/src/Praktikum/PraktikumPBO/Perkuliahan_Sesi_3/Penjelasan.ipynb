{
 "cells": [
  {
   "cell_type": "markdown",
   "metadata": {},
   "source": [
    "Setting dan Instalasi Java dan Visual Studio Code (VSC):"
   ]
  },
  {
   "cell_type": "markdown",
   "metadata": {},
   "source": [
    "1. Download dan Install Java:"
   ]
  },
  {
   "cell_type": "markdown",
   "metadata": {},
   "source": [
    "Unduh Java dari situs resminya.\n",
    "Instal Java pada komputer Anda.\n",
    "Setelah instalasi selesai, cek versi Java dengan mengetik perintah berikut di Command Prompt:"
   ]
  },
  {
   "cell_type": "code",
   "execution_count": null,
   "metadata": {
    "vscode": {
     "languageId": "html"
    }
   },
   "outputs": [],
   "source": [
    "java --version\n"
   ]
  },
  {
   "cell_type": "markdown",
   "metadata": {},
   "source": [
    "Jika berhasil, cek versi Java Compiler dengan mengetik:"
   ]
  },
  {
   "cell_type": "code",
   "execution_count": null,
   "metadata": {
    "vscode": {
     "languageId": "html"
    }
   },
   "outputs": [],
   "source": [
    "javac --version\n"
   ]
  },
  {
   "cell_type": "markdown",
   "metadata": {},
   "source": [
    "Jika tidak berhasil:\n",
    "\n",
    "Lakukan pengaturan di menu Environment Variables.\n",
    "Pilih opsi Edit, kemudian cari lokasi folder instalasi Java.\n",
    "Salin path-nya dan tambahkan ke Path di Environment Variables."
   ]
  },
  {
   "cell_type": "markdown",
   "metadata": {},
   "source": [
    "2. Download dan Install Visual Studio Code (VSC)"
   ]
  },
  {
   "cell_type": "markdown",
   "metadata": {},
   "source": [
    "Unduh dan instal Visual Studio Code dari situs resminya."
   ]
  },
  {
   "cell_type": "markdown",
   "metadata": {},
   "source": [
    "3. Tambahkan Ekstensi dan Tema pada VSC"
   ]
  },
  {
   "cell_type": "markdown",
   "metadata": {},
   "source": [
    "- Buka menu Extensions (ikon berbentuk kotak di sisi kiri layar).\n",
    "- Cari ekstensi Java Extension Pack dan klik Install.\n",
    "- Untuk tema, cari dan instal Dracula Official.\n",
    "- Instal juga ekstensi VSCode Icons.\n"
   ]
  },
  {
   "cell_type": "markdown",
   "metadata": {},
   "source": [
    "4. Membuat Proyek Baru Java di VSC"
   ]
  },
  {
   "cell_type": "markdown",
   "metadata": {},
   "source": [
    "- Jangan buat file baru langsung.\n",
    "- Gunakan perintah berikut:\n",
    "    - Tekan Ctrl + Shift + P pada keyboard.\n",
    "    Ketikkan :\n"
   ]
  },
  {
   "cell_type": "code",
   "execution_count": null,
   "metadata": {
    "vscode": {
     "languageId": "html"
    }
   },
   "outputs": [],
   "source": [
    "Java: Create Project"
   ]
  },
  {
   "cell_type": "markdown",
   "metadata": {},
   "source": [
    "5. Pengaturan settings.json"
   ]
  },
  {
   "cell_type": "markdown",
   "metadata": {},
   "source": [
    "Lakukan pengaturan tambahan sesuai kebutuhan Anda di file settings.json."
   ]
  }
 ],
 "metadata": {
  "kernelspec": {
   "display_name": "Python 3",
   "language": "python",
   "name": "python3"
  },
  "language_info": {
   "codemirror_mode": {
    "name": "ipython",
    "version": 3
   },
   "file_extension": ".py",
   "mimetype": "text/x-python",
   "name": "python",
   "nbconvert_exporter": "python",
   "pygments_lexer": "ipython3",
   "version": "3.10.12"
  }
 },
 "nbformat": 4,
 "nbformat_minor": 2
}
